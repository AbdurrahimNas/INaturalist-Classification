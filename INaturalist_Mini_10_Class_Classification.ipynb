{
 "cells": [
  {
   "cell_type": "code",
   "execution_count": null,
   "metadata": {},
   "outputs": [],
   "source": [
    "import torch\n",
    "import torchvision\n",
    "import os\n",
    "import matplotlib.pyplot as plt\n",
    "import pandas as pd\n",
    "import torch._dynamo\n",
    "torch._dynamo.config.suppress_errors = True\n",
    "from torch import nn\n",
    "from torchvision import transforms\n",
    "try:\n",
    "  from torchinfo import summary\n",
    "except ModuleNotFoundError as e:\n",
    "  print(f\"{e}, Downloading..\")\n",
    "  !pip install torchinfo\n",
    "  from torchinfo import summary"
   ]
  },
  {
   "cell_type": "code",
   "execution_count": null,
   "metadata": {},
   "outputs": [],
   "source": [
    "from modules import model, train\n",
    "model, train_transforms, test_transforms = model.create_model(10)\n",
    "!mkdir \"./data\" \"./data/train\" \"./data/test\"\n",
    "train_data = torchvision.datasets.INaturalist(root=\"./data/train\",\n",
    "                                              version=\"2021_train_mini\",\n",
    "                                              transform=train_transforms,\n",
    "                                              download=True)\n",
    "test_data = torchvision.datasets.INaturalist(root=\"./data/test\",\n",
    "                                             version=\"2021_valid\",\n",
    "                                             transform=test_transforms,\n",
    "                                             download=True)"
   ]
  },
  {
   "cell_type": "code",
   "execution_count": null,
   "metadata": {},
   "outputs": [],
   "source": [
    "import shutil\n",
    "\n",
    "os.listdir(\"./data/train/2021_train_mini\")[10:] == os.listdir(\"./data/test/2021_valid\")[10:]\n",
    "\n",
    "for i in os.listdir(\"./data/train/2021_train_mini\")[10:]:\n",
    "  shutil.rmtree(\"./data/train/2021_train_mini/\"+i)\n",
    "\n",
    "for i in os.listdir(\"./data/test/2021_valid\")[10:]:\n",
    "  shutil.rmtree(\"./data/test/2021_valid/\"+i)\n",
    "\n",
    "os.listdir(\"./data/train/2021_train_mini\") == os.listdir(\"./data/test/2021_valid\")"
   ]
  },
  {
   "cell_type": "code",
   "execution_count": null,
   "metadata": {},
   "outputs": [],
   "source": [
    "from modules import model, train\n",
    "model, train_transforms, test_transforms = model.create_model(10)\n",
    "\n",
    "train_data = torchvision.datasets.ImageFolder(root=\"./data/train/2021_train_mini\",\n",
    "                                              transform=train_transforms)\n",
    "test_data = torchvision.datasets.ImageFolder(root=\"./data/test/2021_valid\",\n",
    "                                             transform=test_transforms)\n",
    "\n",
    "train_dataloader = torch.utils.data.DataLoader(dataset=train_data,\n",
    "                                               batch_size=128,\n",
    "                                               shuffle=True,\n",
    "                                               num_workers=os.cpu_count(),\n",
    "                                               pin_memory=True,\n",
    "                                               generator=torch.Generator(device=\"cpu\")\n",
    "                                               )\n",
    "test_dataloader = torch.utils.data.DataLoader(dataset=test_data,\n",
    "                                              batch_size=128,\n",
    "                                              shuffle=True,\n",
    "                                              num_workers=os.cpu_count(),\n",
    "                                              pin_memory=True,\n",
    "                                              generator=torch.Generator(device=\"cpu\"))\n"
   ]
  },
  {
   "cell_type": "code",
   "execution_count": null,
   "metadata": {},
   "outputs": [],
   "source": [
    "summary(model=model,\n",
    "        input_size=(1, 3, 224, 224), # (batch_size, color_channels, height, width)\n",
    "        col_names=[\"input_size\", \"output_size\", \"num_params\", \"trainable\"],\n",
    "        col_width=20,\n",
    "        row_settings=[\"var_names\"])"
   ]
  },
  {
   "cell_type": "code",
   "execution_count": null,
   "metadata": {},
   "outputs": [],
   "source": [
    "import pandas as pd \n",
    "data = [i.split(\"_\") for i in os.listdir(\"./data/train/2021_train_mini\")]\n",
    "cols = [\"label\",\"kingdom\", \"phylum\", \"class\", \"order\", \"family\", \"genus\", \"name\"]\n",
    "df = pd.DataFrame(data=data, columns=cols)\n",
    "df.sort_values(\"label\", inplace=True)\n",
    "df.set_index(\"label\", drop=True, inplace=True)"
   ]
  },
  {
   "cell_type": "code",
   "execution_count": null,
   "metadata": {},
   "outputs": [],
   "source": [
    "optimizer = torch.optim.Adam(model.parameters(), lr=1e-3)\n",
    "loss_fn = torch.nn.CrossEntropyLoss(label_smoothing=0.1)\n",
    "device = \"cuda\" if torch.cuda.is_available() else \"cpu\"\n",
    "model = model.to(device)\n",
    "torch.compile(model)\n",
    "EPOCHS = 50"
   ]
  },
  {
   "cell_type": "code",
   "execution_count": null,
   "metadata": {},
   "outputs": [],
   "source": [
    "val = next(iter(test_dataloader))\n"
   ]
  },
  {
   "cell_type": "code",
   "execution_count": null,
   "metadata": {},
   "outputs": [],
   "source": [
    "import pandas as pd \n",
    "data = [i.split(\"_\") for i in os.listdir(\"./data/train/2021_train_mini\")]\n",
    "cols = [\"label\",\"kingdom\", \"phylum\", \"class\", \"order\", \"family\", \"genus\", \"name\"]\n",
    "df = pd.DataFrame(data=data, columns=cols)\n",
    "df.sort_values(\"label\", inplace=True)\n",
    "df.set_index(\"label\", drop=True, inplace=True)"
   ]
  },
  {
   "cell_type": "code",
   "execution_count": null,
   "metadata": {},
   "outputs": [],
   "source": [
    "import random\n",
    "random_img = random.randint(0, 127)\n",
    "model.eval()\n",
    "with torch.inference_mode():\n",
    "  img = val[0][random_img]\n",
    "  img_converted = img.unsqueeze(dim=0)\n",
    "  img_converted = model(img_converted.to(device))\n",
    "  pred_label = torch.argmax(torch.softmax(img_converted, dim=1), dim=1)\n",
    "  plt.imshow(img.cpu().permute(1, 2, 0));\n",
    "  plt.title(f\"Prediction Label: {df.iloc[pred_label.max()]} | True Label: {df.iloc[random_img]}\")\n",
    "  plt.axis(\"off\");"
   ]
  }
 ],
 "metadata": {
  "kernelspec": {
   "display_name": "Python 3",
   "language": "python",
   "name": "python3"
  },
  "language_info": {
   "name": "python",
   "version": "3.9.5"
  }
 },
 "nbformat": 4,
 "nbformat_minor": 2
}
