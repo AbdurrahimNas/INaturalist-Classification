{
 "cells": [
  {
   "cell_type": "code",
   "execution_count": null,
   "metadata": {},
   "outputs": [],
   "source": [
    "import torch\n",
    "import torchvision\n",
    "import os\n",
    "import matplotlib.pyplot as plt\n",
    "import pandas as pd\n",
    "import torch._dynamo\n",
    "torch._dynamo.config.suppress_errors = True\n",
    "from torch import nn\n",
    "from torchvision import transforms\n",
    "try:\n",
    "  from torchinfo import summary\n",
    "except ModuleNotFoundError as e:\n",
    "  print(f\"{e}, Downloading..\")\n",
    "  !pip install torchinfo\n",
    "  from torchinfo import summary"
   ]
  },
  {
   "cell_type": "code",
   "execution_count": null,
   "metadata": {},
   "outputs": [],
   "source": [
    "from modules import data_setup, model, train\n",
    "model, train_transform, test_transform = model.create_model(10000)\n",
    "train_dataloader, test_dataloader, train_data = data_setup.create_dataloaders(train_transforms=train_transform,\n",
    "                                                                                  test_transforms=test_transform)"
   ]
  },
  {
   "cell_type": "code",
   "execution_count": null,
   "metadata": {},
   "outputs": [],
   "source": [
    "summary(model=model,\n",
    "        input_size=(1, 3, 224, 224), # (batch_size, color_channels, height, width)\n",
    "        col_names=[\"input_size\", \"output_size\", \"num_params\", \"trainable\"],\n",
    "        col_width=20,\n",
    "        row_settings=[\"var_names\"])"
   ]
  },
  {
   "cell_type": "code",
   "execution_count": null,
   "metadata": {},
   "outputs": [],
   "source": [
    "data = [i.split(\"_\") for i in os.listdir(\"./data/train/2021_train_mini\")]\n",
    "cols = [\"label\",\"kingdom\", \"phylum\", \"class\", \"order\", \"family\", \"genus\", \"name\"]\n",
    "df = pd.DataFrame(data=data, columns=cols)\n",
    "df.sort_values(\"label\", inplace=True)\n",
    "df.set_index(\"label\", drop=True, inplace=True)"
   ]
  },
  {
   "cell_type": "code",
   "execution_count": null,
   "metadata": {},
   "outputs": [],
   "source": [
    "optimizer = torch.optim.Adam(model.parameters(), lr=1e-3)\n",
    "loss_fn = torch.nn.CrossEntropyLoss(label_smoothing=0.1)\n",
    "device = \"cuda\" if torch.cuda.is_available() else \"cpu\"\n",
    "model = model.to(device)\n",
    "torch.compile(model)\n",
    "EPOCHS = 50"
   ]
  },
  {
   "cell_type": "code",
   "execution_count": null,
   "metadata": {},
   "outputs": [],
   "source": [
    "results = train.train_model(model,\n",
    "                            train_dataloader,\n",
    "                            test_dataloader,\n",
    "                            loss_fn,\n",
    "                            optimizer,\n",
    "                            EPOCHS,\n",
    "                            device)"
   ]
  },
  {
   "cell_type": "code",
   "execution_count": null,
   "metadata": {},
   "outputs": [],
   "source": [
    "val = next(iter(test_dataloader))\n"
   ]
  },
  {
   "cell_type": "code",
   "execution_count": null,
   "metadata": {},
   "outputs": [],
   "source": [
    "import random\n",
    "random_img = random.randint(0, 127)\n",
    "model.eval()\n",
    "with torch.inference_mode():\n",
    "  img = val[0][random_img]\n",
    "  img_converted = img.unsqueeze(dim=0)\n",
    "  img_converted = model(img_converted.to(device))\n",
    "  pred_label = torch.argmax(torch.softmax(img_converted, dim=1), dim=1)\n",
    "  plt.imshow(img.cpu().permute(1, 2, 0));\n",
    "  plt.title(f\"Prediction Label: {df.iloc[pred_label.max()]} | True Label: {df.iloc[random_img]}\")\n",
    "  plt.axis(\"off\");"
   ]
  }
 ],
 "metadata": {
  "kernelspec": {
   "display_name": "Python 3",
   "language": "python",
   "name": "python3"
  },
  "language_info": {
   "name": "python",
   "version": "3.9.5"
  }
 },
 "nbformat": 4,
 "nbformat_minor": 2
}
